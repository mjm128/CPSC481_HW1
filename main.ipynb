{
 "cells": [
  {
   "cell_type": "markdown",
   "metadata": {},
   "source": [
    "<h1>Chess AI: Min Max Algorithm</h1><br>\n",
    "\n",
    "First off we're using python-chess version 0.15.3 to handle<br>\n",
    "the board, valid moves, etc. That way we can focus on the AI element.<br>\n",
    "\n",
    "<b>python-chess: v0.15.3</b>\n",
    "- https://python-chess.readthedocs.io/en/latest/"
   ]
  },
  {
   "cell_type": "code",
   "execution_count": null,
   "metadata": {
    "collapsed": false
   },
   "outputs": [],
   "source": [
    "#import the python-chess library\n",
    "import chess"
   ]
  },
  {
   "cell_type": "markdown",
   "metadata": {},
   "source": [
    "Next we read from the config.txt file so that we can see how<br>\n",
    "many moves we're allowed to make before the game ends due to<br>\n",
    "turn limitation. <br>"
   ]
  },
  {
   "cell_type": "code",
   "execution_count": null,
   "metadata": {
    "collapsed": false
   },
   "outputs": [],
   "source": [
    "#read in the turn limit\n",
    "with open('config.txt', 'r') as f:\n",
    "    turnLim = int(f.readline())\n",
    "print(\"The maximum number of moves for a player is: \" + str(turnLim))"
   ]
  },
  {
   "cell_type": "markdown",
   "metadata": {},
   "source": [
    "<h2>1.1 Setting up the Board</h2><br>\n",
    "\n",
    "The initial state of the board being set up is done as follows:<br>\n",
    "<font color=\"red\">chess.Board('2n1k3/8/8/8/8/8/8/4K1NR w - - 0 0')</font><br>\n",
    "\n",
    "The numbers represents empty squares starting from the top left of the board<br>\n",
    "going line by line from top left to bottom right. Capital letters represent<br>\n",
    "white pieces and lower case represent black pieces. The w signifies it's white's<br>\n",
    "turn. "
   ]
  },
  {
   "cell_type": "code",
   "execution_count": null,
   "metadata": {
    "collapsed": false
   },
   "outputs": [],
   "source": [
    "def setupBoard(*args):\n",
    "    if len(args) == 2:\n",
    "        moveString = args[1].split(' ')[1]\n",
    "        board = args[0]\n",
    "        turn = moveString.split(':')[0]\n",
    "        piece = moveString.split(':')[1]\n",
    "        move_to = moveString.split(':')[2]\n",
    "        if turn == \"X\":\n",
    "            color = 1 #White\n",
    "        elif turn == \"Y\":\n",
    "            color = 0 #Black\n",
    "        if piece == \"K\": \n",
    "            piece_type = 6 #King\n",
    "        if piece == \"R\":\n",
    "            piece_type = 4 #Rook\n",
    "        if piece == \"N\":\n",
    "            piece_type = 2  #Knight  \n",
    "        p = board.pieces(piece_type, color)\n",
    "        uci = chess.SQUARE_NAMES[list(p)[0]] + move_to\n",
    "        move = chess.Move.from_uci(uci)\n",
    "        if move in board.legal_moves:\n",
    "            board.push(move)\n",
    "            return True\n",
    "        else:\n",
    "            return False\n",
    "    else:\n",
    "        return chess.Board('2n1k3/8/8/8/8/8/8/4K1NR w - - 0 0')"
   ]
  },
  {
   "cell_type": "markdown",
   "metadata": {},
   "source": [
    "Now we can print an ASCII representation of the board."
   ]
  },
  {
   "cell_type": "code",
   "execution_count": null,
   "metadata": {
    "collapsed": false,
    "scrolled": true
   },
   "outputs": [],
   "source": [
    "b = setupBoard()\n",
    "print(b)"
   ]
  },
  {
   "cell_type": "markdown",
   "metadata": {},
   "source": [
    "<h2>1.2 Displaying the Board</h2><br>\n",
    "Now we need to import two functions for displaying the board.<br>\n",
    "- display\n",
    "- SVG"
   ]
  },
  {
   "cell_type": "code",
   "execution_count": null,
   "metadata": {
    "collapsed": false
   },
   "outputs": [],
   "source": [
    "#Import display for displaying an svg representation of the board\n",
    "from IPython.display import display, HTML, clear_output, SVG"
   ]
  },
  {
   "cell_type": "code",
   "execution_count": null,
   "metadata": {
    "collapsed": true
   },
   "outputs": [],
   "source": [
    "#Import time so that we can add a delay before clearing the display\n",
    "import time"
   ]
  },
  {
   "cell_type": "code",
   "execution_count": null,
   "metadata": {
    "collapsed": false
   },
   "outputs": [],
   "source": [
    "def showMove(board, player):\n",
    "    html = \"\"\n",
    "    if board == chess.Board('2n1k3/8/8/8/8/8/8/4K1NR w - - 0 0'):\n",
    "        time.sleep(1)\n",
    "        html = \"<b>Starting Board:</b><br/>%s\" % (\n",
    "           board._repr_svg_())\n",
    "        clear_output(wait=True)\n",
    "        display(HTML(html))\n",
    "        return\n",
    "    if player == \"X\":\n",
    "        file = \"log_x.txt\"\n",
    "    elif player == \"Y\":\n",
    "        file = \"log_y.txt\"\n",
    "    else:\n",
    "        return\n",
    "    with open(file, \"a\") as f:\n",
    "        move = board.peek()\n",
    "        piece = str(board.piece_at(move.to_square)).upper()\n",
    "        if str(board.piece_at(move.to_square)).islower():\n",
    "            player = \"Y\" #Black Player is lower case\n",
    "            color = \"Black\"\n",
    "        else:\n",
    "            player = \"X\" #White Player is upper case\n",
    "            color = \"White\"\n",
    "        html = \"<b>Move %s %s, %s '%s':</b><br/>%s\" % (\n",
    "           len(board.move_stack), color, piece, str(move), board._repr_svg_())\n",
    "        string = str(len(board.move_stack))+' '+player+':'+piece+':'+ move.uci()[2:]\n",
    "        f.write(string + '\\n')\n",
    "    #time.sleep(1)\n",
    "    clear_output(wait=True)\n",
    "    display(HTML(html))"
   ]
  },
  {
   "cell_type": "markdown",
   "metadata": {},
   "source": [
    "Now when the initial board is created we can show the Board in a<br>\n",
    "nice graphical vector image representation!"
   ]
  },
  {
   "cell_type": "code",
   "execution_count": null,
   "metadata": {
    "collapsed": false
   },
   "outputs": [],
   "source": [
    "b = setupBoard()\n",
    "showMove(b, player=\"START\")\n",
    "if setupBoard(b, \"1 X:R:h8\"):\n",
    "    showMove(b, player=\"X\")"
   ]
  },
  {
   "cell_type": "markdown",
   "metadata": {},
   "source": [
    "<h2>1.3 Making a Move</h2>"
   ]
  },
  {
   "cell_type": "code",
   "execution_count": null,
   "metadata": {
    "collapsed": false
   },
   "outputs": [],
   "source": [
    "def move(board, uci):\n",
    "    if type(uci) is chess.Move:\n",
    "        board.push(uci)\n",
    "        return True\n",
    "    else:\n",
    "        move = chess.Move.from_uci(uci)\n",
    "        if move in board.legal_moves:\n",
    "            board.push(move)\n",
    "            return True\n",
    "    return False"
   ]
  },
  {
   "cell_type": "code",
   "execution_count": null,
   "metadata": {
    "collapsed": false,
    "scrolled": false
   },
   "outputs": [],
   "source": [
    "move(b, \"e8d7\")\n",
    "showMove(b, \"Y\")"
   ]
  },
  {
   "cell_type": "markdown",
   "metadata": {},
   "source": [
    "<h2>1.4a Dealing with Move Monitoring</h2>\n",
    "\n",
    "By importing check4Move() we can do a crossplatform<br>\n",
    "check to see if an opponant has moved by doing a simple<br> \n",
    "polling method."
   ]
  },
  {
   "cell_type": "code",
   "execution_count": null,
   "metadata": {
    "collapsed": true
   },
   "outputs": [],
   "source": [
    "from filehandling import *"
   ]
  },
  {
   "cell_type": "markdown",
   "metadata": {},
   "source": [
    "<h2>1.4b Making sure log files are empty</h2>"
   ]
  },
  {
   "cell_type": "markdown",
   "metadata": {},
   "source": [
    "To make sure that the log_x and log_y text files are empty.<br>\n",
    "We go ahead and open them up in the following line of code<br>\n",
    "and zero out the contents.<br>\n",
    "\n",
    "The function <font color=\"red\">emptyLogFiles()</font> does this."
   ]
  },
  {
   "cell_type": "code",
   "execution_count": null,
   "metadata": {
    "collapsed": false
   },
   "outputs": [],
   "source": [
    "emptyLogFiles()"
   ]
  },
  {
   "cell_type": "markdown",
   "metadata": {},
   "source": [
    "<h2>1.5 Checking for End Game</h2>\n",
    "\n",
    "Must check to see if the game is finished. If it is<br>\n",
    "we must return a proper end state string to tell for<br>\n",
    "what reason it ended."
   ]
  },
  {
   "cell_type": "code",
   "execution_count": null,
   "metadata": {
    "collapsed": false
   },
   "outputs": [],
   "source": [
    "def gameOver(board):\n",
    "    if board.is_stalemate():\n",
    "        return True\n",
    "    if board.is_checkmate():\n",
    "        return True\n",
    "    return False\n",
    "\n",
    "def endResult(board, n):\n",
    "    count = str(len(board.move_stack)) + \" half moves or \" + str(n) + \" full moves\"\n",
    "    if board.is_stalemate():\n",
    "        return \"Stalemate in \" + count\n",
    "    if board.is_checkmate():\n",
    "        return \"Checkmate in \" + count"
   ]
  },
  {
   "cell_type": "markdown",
   "metadata": {},
   "source": [
    "<h2>1.6 Creating the Chess AI</h2>\n",
    "\n",
    "The functionality for the AI comes from the chessAI file."
   ]
  },
  {
   "cell_type": "code",
   "execution_count": null,
   "metadata": {
    "collapsed": false
   },
   "outputs": [],
   "source": [
    "from chessAI import *"
   ]
  },
  {
   "cell_type": "markdown",
   "metadata": {},
   "source": [
    "<h2>1.7 Playing the Game</h2>"
   ]
  },
  {
   "cell_type": "code",
   "execution_count": null,
   "metadata": {
    "collapsed": false
   },
   "outputs": [],
   "source": [
    "def play(n, player):   \n",
    "    board = setupBoard() #Initialize the board\n",
    "    showMove(board, \"START\") #Display starting position\n",
    "    for i in range(1, n+1):\n",
    "        if gameOver(board):\n",
    "            return endResult(board, i)\n",
    "        if player == \"X\":\n",
    "            #uci = manualInput(board)\n",
    "            #uci = randomPlayer(board)\n",
    "            #uci = stockFish(board, .5)\n",
    "            uci = computerPlayer(board)\n",
    "            move(board, uci)\n",
    "            showMove(board, player)\n",
    "            if gameOver(board):\n",
    "                return endResult(board, i)\n",
    "            s = check4Move(player, len(board.move_stack)+1)\n",
    "            if setupBoard(board, s):    \n",
    "                showMove(board, player)\n",
    "                if gameOver(board):\n",
    "                    return endResult(board, i)\n",
    "            else:\n",
    "                return \"Invalid Move made by Player Y: \" + s\n",
    "        if player == \"Y\":\n",
    "            s = check4Move(player, len(board.move_stack)+1)\n",
    "            if setupBoard(board, s):\n",
    "                showMove(board, player)\n",
    "                if gameOver(board):\n",
    "                    return endResult(board, i)\n",
    "            else:\n",
    "                return \"Invalid Move made by Player X: \" + s\n",
    "            #uci = manualInput(board)\n",
    "            #uci = randomPlayer(board)\n",
    "            #uci = stockFish(board, .5)\n",
    "            uci = computerPlayer(board)\n",
    "            move(board, uci)\n",
    "            showMove(board, player)\n",
    "            if gameOver(board):\n",
    "                return endResult(board, i)\n",
    "    return \"Maximum # of moves reached\"      "
   ]
  },
  {
   "cell_type": "code",
   "execution_count": null,
   "metadata": {
    "collapsed": false,
    "scrolled": false
   },
   "outputs": [],
   "source": [
    "result = play(turnLim, \"X\")"
   ]
  },
  {
   "cell_type": "code",
   "execution_count": null,
   "metadata": {
    "collapsed": false
   },
   "outputs": [],
   "source": [
    "print(result)"
   ]
  },
  {
   "cell_type": "code",
   "execution_count": null,
   "metadata": {
    "collapsed": true
   },
   "outputs": [],
   "source": []
  }
 ],
 "metadata": {
  "anaconda-cloud": {},
  "kernelspec": {
   "display_name": "Python [Root]",
   "language": "python",
   "name": "Python [Root]"
  },
  "language_info": {
   "codemirror_mode": {
    "name": "ipython",
    "version": 3
   },
   "file_extension": ".py",
   "mimetype": "text/x-python",
   "name": "python",
   "nbconvert_exporter": "python",
   "pygments_lexer": "ipython3",
   "version": "3.5.2"
  }
 },
 "nbformat": 4,
 "nbformat_minor": 0
}
